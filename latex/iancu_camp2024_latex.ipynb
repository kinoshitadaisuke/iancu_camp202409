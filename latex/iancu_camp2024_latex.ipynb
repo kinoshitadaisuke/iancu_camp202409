{
  "nbformat": 4,
  "nbformat_minor": 0,
  "metadata": {
    "colab": {
      "provenance": []
    },
    "kernelspec": {
      "name": "python3",
      "display_name": "Python 3"
    },
    "language_info": {
      "name": "python"
    }
  },
  "cells": [
    {
      "cell_type": "markdown",
      "source": [
        "# IANCU New Students' Camp 2024\n",
        "\n",
        "## Making a PDF document using LaTeX\n",
        "\n",
        "### Kinoshita Daisuke\n",
        "\n",
        "### 05 September 2024"
      ],
      "metadata": {
        "id": "QFH3VgBcLNLY"
      }
    },
    {
      "cell_type": "markdown",
      "source": [
        "## Installation of LaTeX"
      ],
      "metadata": {
        "id": "8LB0uu72Li4a"
      }
    },
    {
      "cell_type": "code",
      "source": [
        "# Run this cell to install LaTeX\n",
        "\n",
        "!apt install texlive-latex-base\n",
        "!apt install texlive-latex-recommended\n",
        "!apt install texlive-latex-extra"
      ],
      "metadata": {
        "id": "mBsWq0C5LXwv"
      },
      "execution_count": null,
      "outputs": []
    },
    {
      "cell_type": "markdown",
      "source": [
        "## Downloading a set of sample LaTeX source files"
      ],
      "metadata": {
        "id": "wysdTCnKNQKr"
      }
    },
    {
      "cell_type": "code",
      "source": [
        "# Run this cell to download a set of sample LaTeX source files.\n",
        "\n",
        "!git clone https://github.com/kinoshitadaisuke/iancu_camp202409.git"
      ],
      "metadata": {
        "id": "Skn-dDTBNUzZ"
      },
      "execution_count": null,
      "outputs": []
    },
    {
      "cell_type": "code",
      "source": [
        "# Run this cell to move to the directory where we find LaTeX source files.\n",
        "\n",
        "%cd iancu_camp202409/latex"
      ],
      "metadata": {
        "id": "-UNQE9MRNgBM"
      },
      "execution_count": null,
      "outputs": []
    },
    {
      "cell_type": "code",
      "source": [
        "# Run this cell to find LaTeX source files.\n",
        "\n",
        "!ls -lF"
      ],
      "metadata": {
        "id": "AfTnk9muNrqE"
      },
      "execution_count": null,
      "outputs": []
    },
    {
      "cell_type": "markdown",
      "source": [
        "## Downloading an image file needed for making a PDF document."
      ],
      "metadata": {
        "id": "e3Pz0KxjN63-"
      }
    },
    {
      "cell_type": "code",
      "source": [
        "# Run this cell to download an image file.\n",
        "\n",
        "!wget https://stsci-opo.org/STScI-01J04B8WBQTA55C2M3NPYBARD1.png"
      ],
      "metadata": {
        "id": "ryhsrHBXN3UC"
      },
      "execution_count": null,
      "outputs": []
    },
    {
      "cell_type": "code",
      "source": [
        "# Run this cell to find an image file.\n",
        "\n",
        "!ls -lF"
      ],
      "metadata": {
        "id": "o__CHpV_OO_7"
      },
      "execution_count": null,
      "outputs": []
    },
    {
      "cell_type": "markdown",
      "source": [
        "## Making a simple PDF document using LaTeX"
      ],
      "metadata": {
        "id": "HNY5jp67Ofa0"
      }
    },
    {
      "cell_type": "code",
      "source": [
        "# Run this cell to view the LaTeX source file.\n",
        "\n",
        "!cat test_luatex_article_202408.tex"
      ],
      "metadata": {
        "id": "8nwHgy_xPhEv"
      },
      "execution_count": null,
      "outputs": []
    },
    {
      "cell_type": "code",
      "source": [
        "# Run this cell to make a simple PDF document using LaTeX.\n",
        "\n",
        "!lualatex test_luatex_article_202408.tex\n",
        "!lualatex test_luatex_article_202408.tex"
      ],
      "metadata": {
        "id": "7mh6I97JOYNb"
      },
      "execution_count": null,
      "outputs": []
    },
    {
      "cell_type": "code",
      "source": [
        "# Run this cell to find newly created files.\n",
        "\n",
        "!ls -lF"
      ],
      "metadata": {
        "id": "zjlY0UAVOpm8"
      },
      "execution_count": null,
      "outputs": []
    },
    {
      "cell_type": "code",
      "source": [
        "# Run this cell to download PDF file and open it using your own computer.\n",
        "\n",
        "# importing google.colab module\n",
        "import google.colab.files\n",
        "\n",
        "# downloading PDF file\n",
        "google.colab.files.download ('test_luatex_article_202408.pdf')"
      ],
      "metadata": {
        "id": "h36TsIs6O77U"
      },
      "execution_count": null,
      "outputs": []
    },
    {
      "cell_type": "markdown",
      "source": [
        "## Making a presentation slide using LaTeX"
      ],
      "metadata": {
        "id": "rAXpRAoKPt34"
      }
    },
    {
      "cell_type": "code",
      "source": [
        "# Run this cell to view the LaTeX source file.\n",
        "\n",
        "!cat test_luatex_beamer_202408.tex"
      ],
      "metadata": {
        "id": "e2CAIbBOPUJl"
      },
      "execution_count": null,
      "outputs": []
    },
    {
      "cell_type": "code",
      "source": [
        "# Run this cell to make a presentation slide using LaTeX.\n",
        "\n",
        "!lualatex test_luatex_beamer_202408.tex\n",
        "!lualatex test_luatex_beamer_202408.tex"
      ],
      "metadata": {
        "id": "Lxxixv7bQSri"
      },
      "execution_count": null,
      "outputs": []
    },
    {
      "cell_type": "code",
      "source": [
        "# Run this cell to find newly created files.\n",
        "\n",
        "!ls -lF"
      ],
      "metadata": {
        "id": "pi0zjF4xQSri"
      },
      "execution_count": null,
      "outputs": []
    },
    {
      "cell_type": "code",
      "source": [
        "# Run this cell to download PDF file and open it using your own computer.\n",
        "\n",
        "# importing google.colab module\n",
        "import google.colab.files\n",
        "\n",
        "# downloading PDF file\n",
        "google.colab.files.download ('test_luatex_beamer_202408.pdf')"
      ],
      "metadata": {
        "id": "e7Jy0wmMQSrj"
      },
      "execution_count": null,
      "outputs": []
    },
    {
      "cell_type": "markdown",
      "source": [
        "# For learning more about LaTeX...\n",
        "\n",
        "Visit following web pages to learn more about LaTeX.\n",
        "\n",
        "- The LaTeX Project\n",
        "  - https://www.latex-project.org/\n",
        "- The Comprehensive TeX Archive Network\n",
        "  - https://www.ctan.org/"
      ],
      "metadata": {
        "id": "xf5AKUGZQhBM"
      }
    },
    {
      "cell_type": "markdown",
      "source": [
        "# End of this notebook"
      ],
      "metadata": {
        "id": "VrZJJR7cQ_s4"
      }
    },
    {
      "cell_type": "code",
      "source": [],
      "metadata": {
        "id": "-eeg7EcAP2Jt"
      },
      "execution_count": null,
      "outputs": []
    }
  ]
}